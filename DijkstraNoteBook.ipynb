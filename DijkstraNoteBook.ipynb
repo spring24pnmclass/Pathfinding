{
 "cells": [
  {
   "cell_type": "markdown",
   "metadata": {
    "id": "e9FAjjVhvnJR"
   },
   "source": [
    "#Import Libraries"
   ]
  },
  {
   "cell_type": "code",
   "execution_count": 1,
   "metadata": {
    "colab": {
     "base_uri": "https://localhost:8080/"
    },
    "id": "u0yN1BL7swDq",
    "outputId": "1fcd5113-22ee-4d95-8e51-d0d269d25efd"
   },
   "outputs": [
    {
     "name": "stdout",
     "output_type": "stream",
     "text": [
      "Requirement already satisfied: xmltodict in /Users/duy-anh/opt/anaconda3/lib/python3.9/site-packages (0.13.0)\n",
      "Requirement already satisfied: folium in /Users/duy-anh/opt/anaconda3/lib/python3.9/site-packages (0.16.0)\n",
      "Requirement already satisfied: jinja2>=2.9 in /Users/duy-anh/opt/anaconda3/lib/python3.9/site-packages (from folium) (3.1.3)\n",
      "Requirement already satisfied: numpy in /Users/duy-anh/opt/anaconda3/lib/python3.9/site-packages (from folium) (1.21.5)\n",
      "Requirement already satisfied: requests in /Users/duy-anh/opt/anaconda3/lib/python3.9/site-packages (from folium) (2.28.1)\n",
      "Requirement already satisfied: xyzservices in /Users/duy-anh/opt/anaconda3/lib/python3.9/site-packages (from folium) (2024.4.0)\n",
      "Requirement already satisfied: branca>=0.6.0 in /Users/duy-anh/opt/anaconda3/lib/python3.9/site-packages (from folium) (0.7.1)\n",
      "Requirement already satisfied: MarkupSafe>=2.0 in /Users/duy-anh/opt/anaconda3/lib/python3.9/site-packages (from jinja2>=2.9->folium) (2.0.1)\n",
      "Requirement already satisfied: certifi>=2017.4.17 in /Users/duy-anh/opt/anaconda3/lib/python3.9/site-packages (from requests->folium) (2022.9.24)\n",
      "Requirement already satisfied: idna<4,>=2.5 in /Users/duy-anh/opt/anaconda3/lib/python3.9/site-packages (from requests->folium) (3.3)\n",
      "Requirement already satisfied: urllib3<1.27,>=1.21.1 in /Users/duy-anh/opt/anaconda3/lib/python3.9/site-packages (from requests->folium) (1.25.11)\n",
      "Requirement already satisfied: charset-normalizer<3,>=2 in /Users/duy-anh/opt/anaconda3/lib/python3.9/site-packages (from requests->folium) (2.0.4)\n",
      "Requirement already satisfied: numpy in /Users/duy-anh/opt/anaconda3/lib/python3.9/site-packages (1.21.5)\n"
     ]
    }
   ],
   "source": [
    "!pip install xmltodict\n",
    "!pip install folium\n",
    "!pip install numpy"
   ]
  },
  {
   "cell_type": "code",
   "execution_count": 2,
   "metadata": {
    "id": "5LsPwU4qs4V-"
   },
   "outputs": [],
   "source": [
    "import xmltodict as xtd\n",
    "import folium\n",
    "import numpy as np\n",
    "import time\n",
    "from IPython.display import display\n",
    "from IPython.display import clear_output "
   ]
  },
  {
   "cell_type": "markdown",
   "metadata": {
    "id": "Hqkrsnn9vwOB"
   },
   "source": [
    "# Import Map Data"
   ]
  },
  {
   "cell_type": "code",
   "execution_count": 3,
   "metadata": {
    "id": "03P6NyHos_5r"
   },
   "outputs": [],
   "source": [
    "with open('./map_SJSU.osm', \"rb\") as osm_fn:\n",
    "  map_osm = xtd.parse(osm_fn)['osm']"
   ]
  },
  {
   "cell_type": "markdown",
   "metadata": {
    "id": "kKNiWY41v8tf"
   },
   "source": [
    "# Parse Map Data"
   ]
  },
  {
   "cell_type": "code",
   "execution_count": 4,
   "metadata": {
    "colab": {
     "base_uri": "https://localhost:8080/"
    },
    "id": "w0A4_Tt4tNG1",
    "outputId": "df9f1a7c-97e6-4d4a-b235-04e9ad33a44d"
   },
   "outputs": [
    {
     "data": {
      "text/plain": [
       "dict_keys(['@version', '@generator', '@copyright', '@attribution', '@license', 'bounds', 'node', 'way', 'relation'])"
      ]
     },
     "execution_count": 4,
     "metadata": {},
     "output_type": "execute_result"
    }
   ],
   "source": [
    "map_osm.keys()"
   ]
  },
  {
   "cell_type": "markdown",
   "metadata": {
    "id": "-Z-ula8gfPb_"
   },
   "source": [
    "Bounds Parsing"
   ]
  },
  {
   "cell_type": "code",
   "execution_count": 5,
   "metadata": {
    "id": "LqlsJDnkfTbs"
   },
   "outputs": [],
   "source": [
    "ymax = map_osm['bounds']['@maxlat']\n",
    "ymin = map_osm['bounds']['@minlat']\n",
    "xmax = map_osm['bounds']['@maxlon']\n",
    "xmin = map_osm['bounds']['@minlon']\n",
    "\n",
    "parsed_bounds = [xmin, xmax, ymin, ymax]"
   ]
  },
  {
   "cell_type": "markdown",
   "metadata": {
    "id": "t6N2IDrud82c"
   },
   "source": [
    "Nodes Parsing"
   ]
  },
  {
   "cell_type": "code",
   "execution_count": 6,
   "metadata": {
    "id": "79BTkDp3u9oq"
   },
   "outputs": [],
   "source": [
    "Node=map_osm['node']\n",
    "\n",
    "Nnodes=len(Node)\n",
    "\n",
    "Nodeid = [0]*Nnodes\n",
    "xy = []\n",
    "\n",
    "for i in range(Nnodes):\n",
    "  Nodeid[i]=float(Node[i]['@id'])\n",
    "  x=float(Node[i]['@lat'])\n",
    "  y=float(Node[i]['@lon'])\n",
    "  xy.append([x,y])\n",
    "\n",
    "parsed_node={'id':Nodeid, 'xy':xy}\n"
   ]
  },
  {
   "cell_type": "markdown",
   "metadata": {
    "id": "MlTT79-DeBAS"
   },
   "source": [
    "Parsing Way"
   ]
  },
  {
   "cell_type": "code",
   "execution_count": 7,
   "metadata": {
    "id": "GeHfri3zdS6v"
   },
   "outputs": [],
   "source": [
    "Way=map_osm['way']\n",
    "\n",
    "Nways=len(Way)\n",
    "\n",
    "Wayid=[0]*Nways\n",
    "nodes_in_way=[0]*Nways\n",
    "tags=[0]*Nways\n",
    "for i in range(Nways):\n",
    "  tempWay = Way[i]\n",
    "  \n",
    "  Wayid[i] = float(tempWay['@id'])\n",
    "\n",
    "  Nnd=len(tempWay['nd'])\n",
    "  ndTemp=[0]*Nnd\n",
    "  \n",
    "  for j in range(Nnd):\n",
    "    ndTemp[j]=float(tempWay['nd'][j]['@ref'])\n",
    "  \n",
    "  nodes_in_way[i] = ndTemp\n",
    "\n",
    "  if 'tag' in tempWay.keys():\n",
    "    if type(tempWay['tag']) is list:\n",
    "      tags[i]=tempWay['tag']\n",
    "    else:\n",
    "      tags[i]=[tempWay['tag']]\n",
    "  else:\n",
    "    tags[i]=[]\n",
    "\n",
    "parsed_way={'id':Wayid,'nodes':nodes_in_way, 'tags':tags}"
   ]
  },
  {
   "cell_type": "markdown",
   "metadata": {
    "id": "WtClfRP3b1WD"
   },
   "source": [
    "Parsing Relations"
   ]
  },
  {
   "cell_type": "code",
   "execution_count": 8,
   "metadata": {
    "id": "9oZQ8Vn-aeKN"
   },
   "outputs": [],
   "source": [
    "Relation=map_osm['relation']\n",
    "\n",
    "Nrelation=len(Relation)\n",
    "\n",
    "Relationid=[0]*Nrelation\n",
    "\n",
    "for i in range(Nrelation):\n",
    "  currentRelation = Relation[i]\n",
    "  currentId=currentRelation['@id']\n",
    "  Relationid[i]=float(currentId)\n",
    "\n",
    "parsed_relation={'id':Relationid}"
   ]
  },
  {
   "cell_type": "markdown",
   "metadata": {
    "id": "OnMRVGKYeN_t"
   },
   "source": [
    "Parsing OSM"
   ]
  },
  {
   "cell_type": "code",
   "execution_count": 9,
   "metadata": {
    "id": "IWYVOalGeEo9"
   },
   "outputs": [],
   "source": [
    "parsed_osm={\n",
    "    'bounds':parsed_bounds,\n",
    "    'way':parsed_way,\n",
    "    'node':parsed_node,\n",
    "    'relation':parsed_relation,\n",
    "    'attributes':map_osm.keys()\n",
    "}"
   ]
  },
  {
   "cell_type": "markdown",
   "metadata": {
    "id": "lTdKDN6ifzXJ"
   },
   "source": [
    "# Build Connectivity Matrix"
   ]
  },
  {
   "cell_type": "code",
   "execution_count": 10,
   "metadata": {
    "id": "Mes4kFeGfkTU"
   },
   "outputs": [],
   "source": [
    "bounds=parsed_osm['bounds']\n",
    "way=parsed_osm['way']\n",
    "node=parsed_osm['node']\n",
    "relation=parsed_osm['relation']"
   ]
  },
  {
   "cell_type": "code",
   "execution_count": 11,
   "metadata": {
    "id": "ZG6UFN_Fq9A8"
   },
   "outputs": [],
   "source": [
    "ways_num = len(way['id'])\n",
    "ways_node_set=way['nodes']\n",
    "node_ids = dict()\n",
    "n = len(node['id'])\n",
    "for i in range(n):\n",
    "  node_ids[node['id'][i]] = i\n",
    "\n",
    "road_vals = ['highway', 'motorway', 'motorway_link', 'trunk', 'trunk_link',\n",
    "             'primary', 'primary_link', 'secondary', 'secondary_link',\n",
    "             'tertiary', 'road', 'residential', 'living_street',\n",
    "             'service', 'services', 'motorway_junction']"
   ]
  },
  {
   "cell_type": "code",
   "execution_count": 12,
   "metadata": {
    "id": "UOhcFn24G3bg"
   },
   "outputs": [],
   "source": [
    "def create_connectivity():\n",
    "  connectivity_matrix = np.full((Nnodes,Nnodes), float('inf'))\n",
    "  np.fill_diagonal(connectivity_matrix, 0)\n",
    "\n",
    "  for currentWay in range(ways_num):\n",
    "    skip = True\n",
    "    for i in way['tags'][currentWay]:\n",
    "      if i['@k'] in road_vals:\n",
    "        skip = False\n",
    "        break\n",
    "    \n",
    "    if skip:\n",
    "      continue\n",
    "\n",
    "    nodeset=ways_node_set[currentWay]\n",
    "    nodes_num=len(nodeset)\n",
    "\n",
    "    currentWayID = way['id'][currentWay]\n",
    "\n",
    "    for firstnode_local_index in range(nodes_num):\n",
    "      firstnode_id = nodeset[firstnode_local_index]\n",
    "      firstnode_index = node_ids.get(firstnode_id, -1)\n",
    "      if firstnode_index==-1: continue \n",
    "\n",
    "      for othernode_local_index in range(firstnode_local_index+1, nodes_num):\n",
    "        othernode_id=nodeset[othernode_local_index]\n",
    "        othernode_index = node_ids.get(othernode_id, -1)\n",
    "        if othernode_index==-1: continue \n",
    "\n",
    "        if(firstnode_id != othernode_id and connectivity_matrix[firstnode_index,othernode_index]==float('inf')):\n",
    "          connectivity_matrix[firstnode_index, othernode_index] = 1\n",
    "          connectivity_matrix[othernode_index, firstnode_index] = 1\n",
    "\n",
    "  return connectivity_matrix"
   ]
  },
  {
   "cell_type": "markdown",
   "metadata": {
    "id": "KEPTYEw8YvB4"
   },
   "source": [
    "# Apply Pathfinding Algorithm"
   ]
  },
  {
   "cell_type": "code",
   "execution_count": 13,
   "metadata": {
    "id": "Q5OFk-hahMQp"
   },
   "outputs": [],
   "source": [
    "def dijkstra(source, connectivity_matrix, p):\n",
    "  s = dict()\n",
    "  s[source] = True\n",
    "  p[source] = source\n",
    "\n",
    "  v = len(connectivity_matrix)\n",
    "  u = source\n",
    "  d_u = float('inf')\n",
    "  for i in range(v):\n",
    "    if i != source and connectivity_matrix[source][i] < d_u:\n",
    "      u = i\n",
    "      d_u = connectivity_matrix[source][i]\n",
    "  s[u] = True\n",
    "  p[u] = source\n",
    "\n",
    "  i = v-2\n",
    "  while i > 0:\n",
    "    u_x = source\n",
    "    d_u = float('inf')\n",
    "\n",
    "    for j in range(v):\n",
    "      if s.get(j, False) == False and connectivity_matrix[source][u] != float('inf') and connectivity_matrix[u][j] != float('inf'):\n",
    "        k = connectivity_matrix[source][u] + connectivity_matrix[u][j]\n",
    "        connectivity_matrix[source][j] = min(connectivity_matrix[source][j], k)\n",
    "        connectivity_matrix[j][source] = connectivity_matrix[source][j]\n",
    "\n",
    "        if connectivity_matrix[source][j] == k:\n",
    "          p[j] = u\n",
    "        elif connectivity_matrix[source][j] == 1:\n",
    "          p[j] = source\n",
    "\n",
    "        if connectivity_matrix[source][j] < d_u:\n",
    "          u_x = j\n",
    "          d_u = connectivity_matrix[source][j]\n",
    "\n",
    "    if u_x == source:\n",
    "      break\n",
    "\n",
    "    s[u_x] = True\n",
    "    u = u_x\n",
    "    i -= 1"
   ]
  },
  {
   "cell_type": "markdown",
   "metadata": {
    "id": "4mG7IGQ_Y7OQ"
   },
   "source": [
    "# Plot Routes"
   ]
  },
  {
   "cell_type": "code",
   "execution_count": 14,
   "metadata": {
    "id": "wnE-1ol-14NO"
   },
   "outputs": [],
   "source": [
    "def plot_routes(s, connectivity_matrix):\n",
    "  p = dict()\n",
    "  dijkstra(s, connectivity_matrix, p)\n",
    "\n",
    "  nodes_routes_values=[]\n",
    "  for i in p.keys():\n",
    "    adder=[i,0]\n",
    "    while p[i] != i:\n",
    "      adder[1]+=1\n",
    "      i = p[i]\n",
    "    nodes_routes_values.append(adder)\n",
    "\n",
    "  return nodes_routes_values,p"
   ]
  },
  {
   "cell_type": "markdown",
   "metadata": {
    "id": "2OG-RWGTZMj7"
   },
   "source": [
    "# Build Map"
   ]
  },
  {
   "cell_type": "code",
   "execution_count": 15,
   "metadata": {
    "id": "gsFaTkQMZOvG"
   },
   "outputs": [],
   "source": [
    "def build_map(i,p):\n",
    "  node_cds = [(node['xy'][i][0], node['xy'][i][1])]\n",
    "  while p[i] != i:\n",
    "    node_cds.append((node['xy'][p[i]][0], node['xy'][p[i]][1]))\n",
    "    i = p[i]\n",
    "\n",
    "  map = folium.Map(location = node_cds[-1], zoom_start = 15)\n",
    "\n",
    "  folium.CircleMarker(node_cds[-1], radius=5, color=\"blue\", fill=True, fill_color=\"orange\").add_to(map)\n",
    "  folium.Marker(node_cds[0], icon = folium.Icon(color=\"blue\", icon=\"circle\", prefix='fa')).add_to(map)\n",
    "    \n",
    "  folium.PolyLine(locations = node_cds, weight=5, color=\"blue\", opacity=\"0.75\", dash_array=10).add_to(map)\n",
    "    \n",
    "  return map"
   ]
  },
  {
   "cell_type": "markdown",
   "metadata": {
    "id": "R4qWs5EG2Imm"
   },
   "source": [
    "# Display Map\n"
   ]
  },
  {
   "cell_type": "code",
   "execution_count": 16,
   "metadata": {
    "id": "-d7tHVlNrNuH"
   },
   "outputs": [],
   "source": [
    "connectivity_matrix = create_connectivity()\n",
    "nodes_routes_values,p = plot_routes(125, connectivity_matrix)"
   ]
  },
  {
   "cell_type": "code",
   "execution_count": 17,
   "metadata": {
    "colab": {
     "base_uri": "https://localhost:8080/"
    },
    "id": "TXH1d36OkxXF",
    "outputId": "9f07e7a5-62e2-4d6d-f8d1-da6ad06c4d8c"
   },
   "outputs": [
    {
     "name": "stdout",
     "output_type": "stream",
     "text": [
      "[[125, 0], [126, 1], [129, 1], [130, 1], [1626, 1], [1628, 2], [1629, 2], [270, 2], [1625, 2], [1624, 2], [131, 3], [1617, 3], [268, 3], [269, 3], [1611, 3], [1613, 3], [1615, 3], [1832, 3]]\n"
     ]
    }
   ],
   "source": [
    "print(nodes_routes_values)"
   ]
  },
  {
   "cell_type": "code",
   "execution_count": 18,
   "metadata": {
    "id": "WzW1KA67m7x0"
   },
   "outputs": [
    {
     "data": {
      "text/html": [
       "<div style=\"width:100%;\"><div style=\"position:relative;width:100%;height:0;padding-bottom:60%;\"><span style=\"color:#565656\">Make this Notebook Trusted to load map: File -> Trust Notebook</span><iframe srcdoc=\"&lt;!DOCTYPE html&gt;\n",
       "&lt;html&gt;\n",
       "&lt;head&gt;\n",
       "    \n",
       "    &lt;meta http-equiv=&quot;content-type&quot; content=&quot;text/html; charset=UTF-8&quot; /&gt;\n",
       "    \n",
       "        &lt;script&gt;\n",
       "            L_NO_TOUCH = false;\n",
       "            L_DISABLE_3D = false;\n",
       "        &lt;/script&gt;\n",
       "    \n",
       "    &lt;style&gt;html, body {width: 100%;height: 100%;margin: 0;padding: 0;}&lt;/style&gt;\n",
       "    &lt;style&gt;#map {position:absolute;top:0;bottom:0;right:0;left:0;}&lt;/style&gt;\n",
       "    &lt;script src=&quot;https://cdn.jsdelivr.net/npm/leaflet@1.9.3/dist/leaflet.js&quot;&gt;&lt;/script&gt;\n",
       "    &lt;script src=&quot;https://code.jquery.com/jquery-3.7.1.min.js&quot;&gt;&lt;/script&gt;\n",
       "    &lt;script src=&quot;https://cdn.jsdelivr.net/npm/bootstrap@5.2.2/dist/js/bootstrap.bundle.min.js&quot;&gt;&lt;/script&gt;\n",
       "    &lt;script src=&quot;https://cdnjs.cloudflare.com/ajax/libs/Leaflet.awesome-markers/2.0.2/leaflet.awesome-markers.js&quot;&gt;&lt;/script&gt;\n",
       "    &lt;link rel=&quot;stylesheet&quot; href=&quot;https://cdn.jsdelivr.net/npm/leaflet@1.9.3/dist/leaflet.css&quot;/&gt;\n",
       "    &lt;link rel=&quot;stylesheet&quot; href=&quot;https://cdn.jsdelivr.net/npm/bootstrap@5.2.2/dist/css/bootstrap.min.css&quot;/&gt;\n",
       "    &lt;link rel=&quot;stylesheet&quot; href=&quot;https://netdna.bootstrapcdn.com/bootstrap/3.0.0/css/bootstrap.min.css&quot;/&gt;\n",
       "    &lt;link rel=&quot;stylesheet&quot; href=&quot;https://cdn.jsdelivr.net/npm/@fortawesome/fontawesome-free@6.2.0/css/all.min.css&quot;/&gt;\n",
       "    &lt;link rel=&quot;stylesheet&quot; href=&quot;https://cdnjs.cloudflare.com/ajax/libs/Leaflet.awesome-markers/2.0.2/leaflet.awesome-markers.css&quot;/&gt;\n",
       "    &lt;link rel=&quot;stylesheet&quot; href=&quot;https://cdn.jsdelivr.net/gh/python-visualization/folium/folium/templates/leaflet.awesome.rotate.min.css&quot;/&gt;\n",
       "    \n",
       "            &lt;meta name=&quot;viewport&quot; content=&quot;width=device-width,\n",
       "                initial-scale=1.0, maximum-scale=1.0, user-scalable=no&quot; /&gt;\n",
       "            &lt;style&gt;\n",
       "                #map_aa2fd62725e35b6dee5d0b17cd5c0ecd {\n",
       "                    position: relative;\n",
       "                    width: 100.0%;\n",
       "                    height: 100.0%;\n",
       "                    left: 0.0%;\n",
       "                    top: 0.0%;\n",
       "                }\n",
       "                .leaflet-container { font-size: 1rem; }\n",
       "            &lt;/style&gt;\n",
       "        \n",
       "&lt;/head&gt;\n",
       "&lt;body&gt;\n",
       "    \n",
       "    \n",
       "            &lt;div class=&quot;folium-map&quot; id=&quot;map_aa2fd62725e35b6dee5d0b17cd5c0ecd&quot; &gt;&lt;/div&gt;\n",
       "        \n",
       "&lt;/body&gt;\n",
       "&lt;script&gt;\n",
       "    \n",
       "    \n",
       "            var map_aa2fd62725e35b6dee5d0b17cd5c0ecd = L.map(\n",
       "                &quot;map_aa2fd62725e35b6dee5d0b17cd5c0ecd&quot;,\n",
       "                {\n",
       "                    center: [37.3354121, -121.878048],\n",
       "                    crs: L.CRS.EPSG3857,\n",
       "                    zoom: 15,\n",
       "                    zoomControl: true,\n",
       "                    preferCanvas: false,\n",
       "                }\n",
       "            );\n",
       "\n",
       "            \n",
       "\n",
       "        \n",
       "    \n",
       "            var tile_layer_d333809aff21a1f46e99b12eff244d2d = L.tileLayer(\n",
       "                &quot;https://tile.openstreetmap.org/{z}/{x}/{y}.png&quot;,\n",
       "                {&quot;attribution&quot;: &quot;\\u0026copy; \\u003ca href=\\&quot;https://www.openstreetmap.org/copyright\\&quot;\\u003eOpenStreetMap\\u003c/a\\u003e contributors&quot;, &quot;detectRetina&quot;: false, &quot;maxNativeZoom&quot;: 19, &quot;maxZoom&quot;: 19, &quot;minZoom&quot;: 0, &quot;noWrap&quot;: false, &quot;opacity&quot;: 1, &quot;subdomains&quot;: &quot;abc&quot;, &quot;tms&quot;: false}\n",
       "            );\n",
       "        \n",
       "    \n",
       "            tile_layer_d333809aff21a1f46e99b12eff244d2d.addTo(map_aa2fd62725e35b6dee5d0b17cd5c0ecd);\n",
       "        \n",
       "    \n",
       "            var circle_marker_8dd6cae319e5c51fb0f185c481df8126 = L.circleMarker(\n",
       "                [37.3354121, -121.878048],\n",
       "                {&quot;bubblingMouseEvents&quot;: true, &quot;color&quot;: &quot;blue&quot;, &quot;dashArray&quot;: null, &quot;dashOffset&quot;: null, &quot;fill&quot;: true, &quot;fillColor&quot;: &quot;orange&quot;, &quot;fillOpacity&quot;: 0.2, &quot;fillRule&quot;: &quot;evenodd&quot;, &quot;lineCap&quot;: &quot;round&quot;, &quot;lineJoin&quot;: &quot;round&quot;, &quot;opacity&quot;: 1.0, &quot;radius&quot;: 5, &quot;stroke&quot;: true, &quot;weight&quot;: 3}\n",
       "            ).addTo(map_aa2fd62725e35b6dee5d0b17cd5c0ecd);\n",
       "        \n",
       "    \n",
       "            var marker_b644caa6e5bc2348ebb3be4063d21207 = L.marker(\n",
       "                [37.3354121, -121.878048],\n",
       "                {}\n",
       "            ).addTo(map_aa2fd62725e35b6dee5d0b17cd5c0ecd);\n",
       "        \n",
       "    \n",
       "            var icon_6c2a99bfedf6f35b79c841c4e0e7caa3 = L.AwesomeMarkers.icon(\n",
       "                {&quot;extraClasses&quot;: &quot;fa-rotate-0&quot;, &quot;icon&quot;: &quot;circle&quot;, &quot;iconColor&quot;: &quot;white&quot;, &quot;markerColor&quot;: &quot;blue&quot;, &quot;prefix&quot;: &quot;fa&quot;}\n",
       "            );\n",
       "            marker_b644caa6e5bc2348ebb3be4063d21207.setIcon(icon_6c2a99bfedf6f35b79c841c4e0e7caa3);\n",
       "        \n",
       "    \n",
       "            var poly_line_4b018edd7808ab1f4614d3f56a0e1e07 = L.polyline(\n",
       "                [[37.3354121, -121.878048]],\n",
       "                {&quot;bubblingMouseEvents&quot;: true, &quot;color&quot;: &quot;blue&quot;, &quot;dashArray&quot;: 10, &quot;dashOffset&quot;: null, &quot;fill&quot;: false, &quot;fillColor&quot;: &quot;blue&quot;, &quot;fillOpacity&quot;: 0.2, &quot;fillRule&quot;: &quot;evenodd&quot;, &quot;lineCap&quot;: &quot;round&quot;, &quot;lineJoin&quot;: &quot;round&quot;, &quot;noClip&quot;: false, &quot;opacity&quot;: &quot;0.75&quot;, &quot;smoothFactor&quot;: 1.0, &quot;stroke&quot;: true, &quot;weight&quot;: 5}\n",
       "            ).addTo(map_aa2fd62725e35b6dee5d0b17cd5c0ecd);\n",
       "        \n",
       "&lt;/script&gt;\n",
       "&lt;/html&gt;\" style=\"position:absolute;width:100%;height:100%;left:0;top:0;border:none !important;\" allowfullscreen webkitallowfullscreen mozallowfullscreen></iframe></div></div>"
      ],
      "text/plain": [
       "<folium.folium.Map at 0x7fb70836f4f0>"
      ]
     },
     "metadata": {},
     "output_type": "display_data"
    },
    {
     "data": {
      "text/plain": [
       "'\\nfor i,j in nodes_routes_values:\\n    if j > 2:\\n        map = build_map(i)\\n        display(map)\\n        time.sleep(2)\\n        clear_output()\\n\\n'"
      ]
     },
     "execution_count": 18,
     "metadata": {},
     "output_type": "execute_result"
    }
   ],
   "source": [
    "map = build_map(125,p)\n",
    "display(map)\n",
    "\n",
    "\n",
    "'''\n",
    "for i,j in nodes_routes_values:\n",
    "    if j > 2:\n",
    "        map = build_map(i)\n",
    "        display(map)\n",
    "        time.sleep(2)\n",
    "        clear_output()\n",
    "\n",
    "'''"
   ]
  },
  {
   "cell_type": "code",
   "execution_count": 19,
   "metadata": {
    "id": "PCZLrBCNnKFU"
   },
   "outputs": [
    {
     "data": {
      "text/plain": [
       "'\\nnode_list = []\\nfor node in nodes_routes_values:\\n    node_list.append(node[0])\\nprint(node_list)\\n    \\n    \\nfor node in node_list:\\n    map = build_map(node,p)\\n    display(map)\\n'"
      ]
     },
     "execution_count": 19,
     "metadata": {},
     "output_type": "execute_result"
    }
   ],
   "source": [
    "'''\n",
    "node_list = []\n",
    "for node in nodes_routes_values:\n",
    "    node_list.append(node[0])\n",
    "print(node_list)\n",
    "    \n",
    "    \n",
    "for node in node_list:\n",
    "    map = build_map(node,p)\n",
    "    display(map)\n",
    "'''"
   ]
  },
  {
   "cell_type": "code",
   "execution_count": 22,
   "metadata": {},
   "outputs": [
    {
     "data": {
      "text/html": [
       "<div style=\"width:100%;\"><div style=\"position:relative;width:100%;height:0;padding-bottom:60%;\"><span style=\"color:#565656\">Make this Notebook Trusted to load map: File -> Trust Notebook</span><iframe srcdoc=\"&lt;!DOCTYPE html&gt;\n",
       "&lt;html&gt;\n",
       "&lt;head&gt;\n",
       "    \n",
       "    &lt;meta http-equiv=&quot;content-type&quot; content=&quot;text/html; charset=UTF-8&quot; /&gt;\n",
       "    \n",
       "        &lt;script&gt;\n",
       "            L_NO_TOUCH = false;\n",
       "            L_DISABLE_3D = false;\n",
       "        &lt;/script&gt;\n",
       "    \n",
       "    &lt;style&gt;html, body {width: 100%;height: 100%;margin: 0;padding: 0;}&lt;/style&gt;\n",
       "    &lt;style&gt;#map {position:absolute;top:0;bottom:0;right:0;left:0;}&lt;/style&gt;\n",
       "    &lt;script src=&quot;https://cdn.jsdelivr.net/npm/leaflet@1.9.3/dist/leaflet.js&quot;&gt;&lt;/script&gt;\n",
       "    &lt;script src=&quot;https://code.jquery.com/jquery-3.7.1.min.js&quot;&gt;&lt;/script&gt;\n",
       "    &lt;script src=&quot;https://cdn.jsdelivr.net/npm/bootstrap@5.2.2/dist/js/bootstrap.bundle.min.js&quot;&gt;&lt;/script&gt;\n",
       "    &lt;script src=&quot;https://cdnjs.cloudflare.com/ajax/libs/Leaflet.awesome-markers/2.0.2/leaflet.awesome-markers.js&quot;&gt;&lt;/script&gt;\n",
       "    &lt;link rel=&quot;stylesheet&quot; href=&quot;https://cdn.jsdelivr.net/npm/leaflet@1.9.3/dist/leaflet.css&quot;/&gt;\n",
       "    &lt;link rel=&quot;stylesheet&quot; href=&quot;https://cdn.jsdelivr.net/npm/bootstrap@5.2.2/dist/css/bootstrap.min.css&quot;/&gt;\n",
       "    &lt;link rel=&quot;stylesheet&quot; href=&quot;https://netdna.bootstrapcdn.com/bootstrap/3.0.0/css/bootstrap.min.css&quot;/&gt;\n",
       "    &lt;link rel=&quot;stylesheet&quot; href=&quot;https://cdn.jsdelivr.net/npm/@fortawesome/fontawesome-free@6.2.0/css/all.min.css&quot;/&gt;\n",
       "    &lt;link rel=&quot;stylesheet&quot; href=&quot;https://cdnjs.cloudflare.com/ajax/libs/Leaflet.awesome-markers/2.0.2/leaflet.awesome-markers.css&quot;/&gt;\n",
       "    &lt;link rel=&quot;stylesheet&quot; href=&quot;https://cdn.jsdelivr.net/gh/python-visualization/folium/folium/templates/leaflet.awesome.rotate.min.css&quot;/&gt;\n",
       "    \n",
       "            &lt;meta name=&quot;viewport&quot; content=&quot;width=device-width,\n",
       "                initial-scale=1.0, maximum-scale=1.0, user-scalable=no&quot; /&gt;\n",
       "            &lt;style&gt;\n",
       "                #map_9a8825563df3dd067e0ff842433d0d07 {\n",
       "                    position: relative;\n",
       "                    width: 100.0%;\n",
       "                    height: 100.0%;\n",
       "                    left: 0.0%;\n",
       "                    top: 0.0%;\n",
       "                }\n",
       "                .leaflet-container { font-size: 1rem; }\n",
       "            &lt;/style&gt;\n",
       "        \n",
       "&lt;/head&gt;\n",
       "&lt;body&gt;\n",
       "    \n",
       "    \n",
       "            &lt;div class=&quot;folium-map&quot; id=&quot;map_9a8825563df3dd067e0ff842433d0d07&quot; &gt;&lt;/div&gt;\n",
       "        \n",
       "&lt;/body&gt;\n",
       "&lt;script&gt;\n",
       "    \n",
       "    \n",
       "            var map_9a8825563df3dd067e0ff842433d0d07 = L.map(\n",
       "                &quot;map_9a8825563df3dd067e0ff842433d0d07&quot;,\n",
       "                {\n",
       "                    center: [37.3354121, -121.878048],\n",
       "                    crs: L.CRS.EPSG3857,\n",
       "                    zoom: 15,\n",
       "                    zoomControl: true,\n",
       "                    preferCanvas: false,\n",
       "                }\n",
       "            );\n",
       "\n",
       "            \n",
       "\n",
       "        \n",
       "    \n",
       "            var tile_layer_32432e536ebd3206536a2ae10f6ba81f = L.tileLayer(\n",
       "                &quot;https://tile.openstreetmap.org/{z}/{x}/{y}.png&quot;,\n",
       "                {&quot;attribution&quot;: &quot;\\u0026copy; \\u003ca href=\\&quot;https://www.openstreetmap.org/copyright\\&quot;\\u003eOpenStreetMap\\u003c/a\\u003e contributors&quot;, &quot;detectRetina&quot;: false, &quot;maxNativeZoom&quot;: 19, &quot;maxZoom&quot;: 19, &quot;minZoom&quot;: 0, &quot;noWrap&quot;: false, &quot;opacity&quot;: 1, &quot;subdomains&quot;: &quot;abc&quot;, &quot;tms&quot;: false}\n",
       "            );\n",
       "        \n",
       "    \n",
       "            tile_layer_32432e536ebd3206536a2ae10f6ba81f.addTo(map_9a8825563df3dd067e0ff842433d0d07);\n",
       "        \n",
       "    \n",
       "            var circle_marker_f1414e8859c03cdd06e586653512be35 = L.circleMarker(\n",
       "                [37.3354121, -121.878048],\n",
       "                {&quot;bubblingMouseEvents&quot;: true, &quot;color&quot;: &quot;blue&quot;, &quot;dashArray&quot;: null, &quot;dashOffset&quot;: null, &quot;fill&quot;: true, &quot;fillColor&quot;: &quot;orange&quot;, &quot;fillOpacity&quot;: 0.2, &quot;fillRule&quot;: &quot;evenodd&quot;, &quot;lineCap&quot;: &quot;round&quot;, &quot;lineJoin&quot;: &quot;round&quot;, &quot;opacity&quot;: 1.0, &quot;radius&quot;: 5, &quot;stroke&quot;: true, &quot;weight&quot;: 3}\n",
       "            ).addTo(map_9a8825563df3dd067e0ff842433d0d07);\n",
       "        \n",
       "    \n",
       "            var marker_fadff6f2a49e5aee02f6bd4134734015 = L.marker(\n",
       "                [37.3349458, -121.8777013],\n",
       "                {}\n",
       "            ).addTo(map_9a8825563df3dd067e0ff842433d0d07);\n",
       "        \n",
       "    \n",
       "            var icon_2272d952f7a2afa62929b35d505fbb94 = L.AwesomeMarkers.icon(\n",
       "                {&quot;extraClasses&quot;: &quot;fa-rotate-0&quot;, &quot;icon&quot;: &quot;circle&quot;, &quot;iconColor&quot;: &quot;white&quot;, &quot;markerColor&quot;: &quot;blue&quot;, &quot;prefix&quot;: &quot;fa&quot;}\n",
       "            );\n",
       "            marker_fadff6f2a49e5aee02f6bd4134734015.setIcon(icon_2272d952f7a2afa62929b35d505fbb94);\n",
       "        \n",
       "    \n",
       "            var poly_line_1e1afd9485323d4edf6187c6ac169d7e = L.polyline(\n",
       "                [[37.3349458, -121.8777013], [37.3350487, -121.8777767], [37.3352333, -121.8779047], [37.3354121, -121.878048]],\n",
       "                {&quot;bubblingMouseEvents&quot;: true, &quot;color&quot;: &quot;blue&quot;, &quot;dashArray&quot;: 10, &quot;dashOffset&quot;: null, &quot;fill&quot;: false, &quot;fillColor&quot;: &quot;blue&quot;, &quot;fillOpacity&quot;: 0.2, &quot;fillRule&quot;: &quot;evenodd&quot;, &quot;lineCap&quot;: &quot;round&quot;, &quot;lineJoin&quot;: &quot;round&quot;, &quot;noClip&quot;: false, &quot;opacity&quot;: &quot;0.75&quot;, &quot;smoothFactor&quot;: 1.0, &quot;stroke&quot;: true, &quot;weight&quot;: 5}\n",
       "            ).addTo(map_9a8825563df3dd067e0ff842433d0d07);\n",
       "        \n",
       "&lt;/script&gt;\n",
       "&lt;/html&gt;\" style=\"position:absolute;width:100%;height:100%;left:0;top:0;border:none !important;\" allowfullscreen webkitallowfullscreen mozallowfullscreen></iframe></div></div>"
      ],
      "text/plain": [
       "<folium.folium.Map at 0x7fb70836f820>"
      ]
     },
     "metadata": {},
     "output_type": "display_data"
    }
   ],
   "source": [
    "map = build_map(1613,p)\n",
    "display(map)"
   ]
  },
  {
   "cell_type": "code",
   "execution_count": 21,
   "metadata": {},
   "outputs": [
    {
     "data": {
      "text/html": [
       "<div style=\"width:100%;\"><div style=\"position:relative;width:100%;height:0;padding-bottom:60%;\"><span style=\"color:#565656\">Make this Notebook Trusted to load map: File -> Trust Notebook</span><iframe srcdoc=\"&lt;!DOCTYPE html&gt;\n",
       "&lt;html&gt;\n",
       "&lt;head&gt;\n",
       "    \n",
       "    &lt;meta http-equiv=&quot;content-type&quot; content=&quot;text/html; charset=UTF-8&quot; /&gt;\n",
       "    \n",
       "        &lt;script&gt;\n",
       "            L_NO_TOUCH = false;\n",
       "            L_DISABLE_3D = false;\n",
       "        &lt;/script&gt;\n",
       "    \n",
       "    &lt;style&gt;html, body {width: 100%;height: 100%;margin: 0;padding: 0;}&lt;/style&gt;\n",
       "    &lt;style&gt;#map {position:absolute;top:0;bottom:0;right:0;left:0;}&lt;/style&gt;\n",
       "    &lt;script src=&quot;https://cdn.jsdelivr.net/npm/leaflet@1.9.3/dist/leaflet.js&quot;&gt;&lt;/script&gt;\n",
       "    &lt;script src=&quot;https://code.jquery.com/jquery-3.7.1.min.js&quot;&gt;&lt;/script&gt;\n",
       "    &lt;script src=&quot;https://cdn.jsdelivr.net/npm/bootstrap@5.2.2/dist/js/bootstrap.bundle.min.js&quot;&gt;&lt;/script&gt;\n",
       "    &lt;script src=&quot;https://cdnjs.cloudflare.com/ajax/libs/Leaflet.awesome-markers/2.0.2/leaflet.awesome-markers.js&quot;&gt;&lt;/script&gt;\n",
       "    &lt;link rel=&quot;stylesheet&quot; href=&quot;https://cdn.jsdelivr.net/npm/leaflet@1.9.3/dist/leaflet.css&quot;/&gt;\n",
       "    &lt;link rel=&quot;stylesheet&quot; href=&quot;https://cdn.jsdelivr.net/npm/bootstrap@5.2.2/dist/css/bootstrap.min.css&quot;/&gt;\n",
       "    &lt;link rel=&quot;stylesheet&quot; href=&quot;https://netdna.bootstrapcdn.com/bootstrap/3.0.0/css/bootstrap.min.css&quot;/&gt;\n",
       "    &lt;link rel=&quot;stylesheet&quot; href=&quot;https://cdn.jsdelivr.net/npm/@fortawesome/fontawesome-free@6.2.0/css/all.min.css&quot;/&gt;\n",
       "    &lt;link rel=&quot;stylesheet&quot; href=&quot;https://cdnjs.cloudflare.com/ajax/libs/Leaflet.awesome-markers/2.0.2/leaflet.awesome-markers.css&quot;/&gt;\n",
       "    &lt;link rel=&quot;stylesheet&quot; href=&quot;https://cdn.jsdelivr.net/gh/python-visualization/folium/folium/templates/leaflet.awesome.rotate.min.css&quot;/&gt;\n",
       "    \n",
       "            &lt;meta name=&quot;viewport&quot; content=&quot;width=device-width,\n",
       "                initial-scale=1.0, maximum-scale=1.0, user-scalable=no&quot; /&gt;\n",
       "            &lt;style&gt;\n",
       "                #map_6fc01c28c6af1d74e34d882aa58b9b0b {\n",
       "                    position: relative;\n",
       "                    width: 100.0%;\n",
       "                    height: 100.0%;\n",
       "                    left: 0.0%;\n",
       "                    top: 0.0%;\n",
       "                }\n",
       "                .leaflet-container { font-size: 1rem; }\n",
       "            &lt;/style&gt;\n",
       "        \n",
       "&lt;/head&gt;\n",
       "&lt;body&gt;\n",
       "    \n",
       "    \n",
       "            &lt;div class=&quot;folium-map&quot; id=&quot;map_6fc01c28c6af1d74e34d882aa58b9b0b&quot; &gt;&lt;/div&gt;\n",
       "        \n",
       "&lt;/body&gt;\n",
       "&lt;script&gt;\n",
       "    \n",
       "    \n",
       "            var map_6fc01c28c6af1d74e34d882aa58b9b0b = L.map(\n",
       "                &quot;map_6fc01c28c6af1d74e34d882aa58b9b0b&quot;,\n",
       "                {\n",
       "                    center: [37.3354121, -121.878048],\n",
       "                    crs: L.CRS.EPSG3857,\n",
       "                    zoom: 15,\n",
       "                    zoomControl: true,\n",
       "                    preferCanvas: false,\n",
       "                }\n",
       "            );\n",
       "\n",
       "            \n",
       "\n",
       "        \n",
       "    \n",
       "            var tile_layer_854f76c04cb2980ca5a2df82fae7c103 = L.tileLayer(\n",
       "                &quot;https://tile.openstreetmap.org/{z}/{x}/{y}.png&quot;,\n",
       "                {&quot;attribution&quot;: &quot;\\u0026copy; \\u003ca href=\\&quot;https://www.openstreetmap.org/copyright\\&quot;\\u003eOpenStreetMap\\u003c/a\\u003e contributors&quot;, &quot;detectRetina&quot;: false, &quot;maxNativeZoom&quot;: 19, &quot;maxZoom&quot;: 19, &quot;minZoom&quot;: 0, &quot;noWrap&quot;: false, &quot;opacity&quot;: 1, &quot;subdomains&quot;: &quot;abc&quot;, &quot;tms&quot;: false}\n",
       "            );\n",
       "        \n",
       "    \n",
       "            tile_layer_854f76c04cb2980ca5a2df82fae7c103.addTo(map_6fc01c28c6af1d74e34d882aa58b9b0b);\n",
       "        \n",
       "    \n",
       "            var circle_marker_b5a1b844c491c166a76d3d07bb8143e2 = L.circleMarker(\n",
       "                [37.3354121, -121.878048],\n",
       "                {&quot;bubblingMouseEvents&quot;: true, &quot;color&quot;: &quot;blue&quot;, &quot;dashArray&quot;: null, &quot;dashOffset&quot;: null, &quot;fill&quot;: true, &quot;fillColor&quot;: &quot;orange&quot;, &quot;fillOpacity&quot;: 0.2, &quot;fillRule&quot;: &quot;evenodd&quot;, &quot;lineCap&quot;: &quot;round&quot;, &quot;lineJoin&quot;: &quot;round&quot;, &quot;opacity&quot;: 1.0, &quot;radius&quot;: 5, &quot;stroke&quot;: true, &quot;weight&quot;: 3}\n",
       "            ).addTo(map_6fc01c28c6af1d74e34d882aa58b9b0b);\n",
       "        \n",
       "    \n",
       "            var marker_979ad7932a35cb81964c3abbb2707bd3 = L.marker(\n",
       "                [37.3354121, -121.878048],\n",
       "                {}\n",
       "            ).addTo(map_6fc01c28c6af1d74e34d882aa58b9b0b);\n",
       "        \n",
       "    \n",
       "            var icon_8141b4a1f6de9d5828980d6c3c2b06e7 = L.AwesomeMarkers.icon(\n",
       "                {&quot;extraClasses&quot;: &quot;fa-rotate-0&quot;, &quot;icon&quot;: &quot;circle&quot;, &quot;iconColor&quot;: &quot;white&quot;, &quot;markerColor&quot;: &quot;blue&quot;, &quot;prefix&quot;: &quot;fa&quot;}\n",
       "            );\n",
       "            marker_979ad7932a35cb81964c3abbb2707bd3.setIcon(icon_8141b4a1f6de9d5828980d6c3c2b06e7);\n",
       "        \n",
       "    \n",
       "            var poly_line_a7d8e744dc3829e9cdab2f672485c56b = L.polyline(\n",
       "                [[37.3354121, -121.878048]],\n",
       "                {&quot;bubblingMouseEvents&quot;: true, &quot;color&quot;: &quot;blue&quot;, &quot;dashArray&quot;: 10, &quot;dashOffset&quot;: null, &quot;fill&quot;: false, &quot;fillColor&quot;: &quot;blue&quot;, &quot;fillOpacity&quot;: 0.2, &quot;fillRule&quot;: &quot;evenodd&quot;, &quot;lineCap&quot;: &quot;round&quot;, &quot;lineJoin&quot;: &quot;round&quot;, &quot;noClip&quot;: false, &quot;opacity&quot;: &quot;0.75&quot;, &quot;smoothFactor&quot;: 1.0, &quot;stroke&quot;: true, &quot;weight&quot;: 5}\n",
       "            ).addTo(map_6fc01c28c6af1d74e34d882aa58b9b0b);\n",
       "        \n",
       "&lt;/script&gt;\n",
       "&lt;/html&gt;\" style=\"position:absolute;width:100%;height:100%;left:0;top:0;border:none !important;\" allowfullscreen webkitallowfullscreen mozallowfullscreen></iframe></div></div>"
      ],
      "text/plain": [
       "<folium.folium.Map at 0x7fb7100fcb20>"
      ]
     },
     "metadata": {},
     "output_type": "display_data"
    }
   ],
   "source": [
    "map = build_map(125,p)\n",
    "display(map)"
   ]
  },
  {
   "cell_type": "code",
   "execution_count": null,
   "metadata": {},
   "outputs": [],
   "source": []
  }
 ],
 "metadata": {
  "colab": {
   "collapsed_sections": [
    "e9FAjjVhvnJR",
    "Hqkrsnn9vwOB",
    "kKNiWY41v8tf",
    "lTdKDN6ifzXJ",
    "KEPTYEw8YvB4",
    "4mG7IGQ_Y7OQ",
    "2OG-RWGTZMj7",
    "R4qWs5EG2Imm"
   ],
   "name": "ADAProjectNotebookV6MaybeFinal.ipynb",
   "provenance": []
  },
  "kernelspec": {
   "display_name": "Python 3 (ipykernel)",
   "language": "python",
   "name": "python3"
  },
  "language_info": {
   "codemirror_mode": {
    "name": "ipython",
    "version": 3
   },
   "file_extension": ".py",
   "mimetype": "text/x-python",
   "name": "python",
   "nbconvert_exporter": "python",
   "pygments_lexer": "ipython3",
   "version": "3.9.13"
  }
 },
 "nbformat": 4,
 "nbformat_minor": 1
}
